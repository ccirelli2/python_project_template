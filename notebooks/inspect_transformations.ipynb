{
 "cells": [
  {
   "cell_type": "markdown",
   "id": "ce7a2eba-e118-4b78-87af-09d4bea7a736",
   "metadata": {},
   "source": [
    "## Summary\n",
    "<br>\n",
    "\n",
    "The purpose of this notebook is to inspect the output of the clean and enhanced transformations.\n",
    "\n",
    "<br>\n",
    "\n",
    "**Transformations**\n",
    "- Convert -9 to None\n",
    "- Drop columns whose null pct. > 0.7% (or other threshold)\n",
    "- Create IN_OUT Column\n",
    "- Create TARGET column.\n",
    "\n",
    "<br>"
   ]
  },
  {
   "cell_type": "markdown",
   "id": "7ab87052-8b85-40d5-a3db-48ef0ee89ae0",
   "metadata": {},
   "source": [
    "### Libraries"
   ]
  },
  {
   "cell_type": "code",
   "execution_count": 2,
   "id": "7bdce7ca-a682-4b95-be8d-1060fed8b491",
   "metadata": {},
   "outputs": [],
   "source": [
    "import os\n",
    "import pandas as pd\n",
    "import numpy as np\n",
    "import matplotlib.pyplot as plt\n",
    "from decouple import config as d_config"
   ]
  },
  {
   "cell_type": "markdown",
   "id": "eb0e89ab-e1b7-480b-aca1-3457418b4a4f",
   "metadata": {},
   "source": [
    "### Globals"
   ]
  },
  {
   "cell_type": "code",
   "execution_count": null,
   "id": "465bfd2e-f959-4417-b482-1ea4b6c36422",
   "metadata": {},
   "outputs": [],
   "source": [
    "DIR_DATA = \"/home/christopher-cirelli/repositories/ml-fairness/data\"\n",
    "DIR_DATA_RAW = os.path.join(DIR_DATA, 'raw')\n",
    "DIR_DATA_CLEAN = os.path.join(DIR_DATA, 'clean')\n",
    "[os.path.exists(d) for d in [DIR_DATA, DIR_DATA_RAW, DIR_DATA_CLEAN]]"
   ]
  },
  {
   "cell_type": "markdown",
   "id": "84a2bdf9-796b-45fd-a1c6-33f4d2c1bdfb",
   "metadata": {},
   "source": [
    "### Config Files"
   ]
  },
  {
   "cell_type": "code",
   "execution_count": null,
   "id": "35dba5a7-a401-4286-aa34-16f29161a9e8",
   "metadata": {},
   "outputs": [],
   "source": []
  },
  {
   "cell_type": "code",
   "execution_count": null,
   "id": "1b656f07-7582-4a9f-b686-d56d5145ce9e",
   "metadata": {},
   "outputs": [],
   "source": []
  },
  {
   "cell_type": "code",
   "execution_count": null,
   "id": "3c9b802d-5c39-47d5-8655-a68e0ac0a7f7",
   "metadata": {},
   "outputs": [],
   "source": []
  },
  {
   "cell_type": "code",
   "execution_count": null,
   "id": "99b7aef5-0543-4546-99e5-b26604d81754",
   "metadata": {},
   "outputs": [],
   "source": []
  },
  {
   "cell_type": "code",
   "execution_count": null,
   "id": "3624aa8d-7205-4dbe-9056-8590250b6caa",
   "metadata": {},
   "outputs": [],
   "source": []
  },
  {
   "cell_type": "code",
   "execution_count": null,
   "id": "97aceac5-2a0a-4ae0-bde3-f69406e1f92b",
   "metadata": {},
   "outputs": [],
   "source": []
  },
  {
   "cell_type": "code",
   "execution_count": null,
   "id": "9d7ea269-8324-402e-8ee2-1d2e552c4707",
   "metadata": {},
   "outputs": [],
   "source": []
  },
  {
   "cell_type": "code",
   "execution_count": null,
   "id": "601959c3-c46c-4d26-a420-98c247d745a1",
   "metadata": {},
   "outputs": [],
   "source": []
  }
 ],
 "metadata": {
  "kernelspec": {
   "display_name": "Python 3 (ipykernel)",
   "language": "python",
   "name": "python3"
  },
  "language_info": {
   "codemirror_mode": {
    "name": "ipython",
    "version": 3
   },
   "file_extension": ".py",
   "mimetype": "text/x-python",
   "name": "python",
   "nbconvert_exporter": "python",
   "pygments_lexer": "ipython3",
   "version": "3.10.13"
  }
 },
 "nbformat": 4,
 "nbformat_minor": 5
}
