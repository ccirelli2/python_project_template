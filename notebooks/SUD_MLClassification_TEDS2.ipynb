{
 "cells": [
  {
   "cell_type": "code",
   "execution_count": 2,
   "id": "2326350c",
   "metadata": {},
   "outputs": [],
   "source": [
    "# Imports\n",
    "import pandas as pd\n",
    "from sklearn import preprocessing\n",
    "import numpy as np\n",
    "import matplotlib.pyplot as plt\n",
    "from sklearn.preprocessing import MinMaxScaler\n",
    "from sklearn.feature_selection import SelectKBest,chi2,RFE\n",
    "from xgboost import XGBClassifier\n",
    "from sklearn.model_selection import train_test_split\n",
    "from sklearn.metrics import accuracy_score\n",
    "from sklearn.feature_selection import RFE\n",
    "from sklearn.linear_model import LogisticRegression\n",
    "from sklearn.feature_selection import SelectFromModel\n",
    "from sklearn.linear_model import LogisticRegression\n",
    "from sklearn.naive_bayes import GaussianNB\n",
    "from sklearn.feature_selection import SelectFromModel\n",
    "from sklearn.metrics import accuracy_score, f1_score, precision_score, recall_score\n",
    "from sklearn.ensemble import RandomForestClassifier\n",
    "\n",
    "from sklearn.ensemble._bagging import BaggingClassifier\n",
    "from sklearn.ensemble._forest import ExtraTreesClassifier\n",
    "\n",
    "from sklearn.tree import DecisionTreeClassifier \n",
    "from sklearn.ensemble._bagging import BaggingClassifier\n",
    "from sklearn.metrics import confusion_matrix, fbeta_score\n",
    "\n",
    "from fairlearn.metrics import MetricFrame\n",
    "from fairlearn.metrics import selection_rate, count\n",
    "from fairlearn.postprocessing import ThresholdOptimizer\n",
    "from fairlearn.reductions import ExponentiatedGradient, ClassificationMoment, Moment, DemographicParity, GridSearch\n",
    "from fairlearn.metrics import equalized_odds_difference, equalized_odds_ratio, false_negative_rate_difference, false_positive_rate_difference, true_positive_rate_difference, true_negative_rate_difference, demographic_parity_ratio, demographic_parity_difference\n",
    "\n",
    "# Suppress warnings\n",
    "def warn(*args, **kwargs):\n",
    "    pass\n",
    "import warnings\n",
    "warnings.warn = warn"
   ]
  },
  {
   "cell_type": "code",
   "execution_count": 3,
   "id": "079a89c0",
   "metadata": {},
   "outputs": [],
   "source": [
    "TEDS = \"/Users/meghanareddy/Downloads/Teds_2019_cleaned_cri2_checkcorr.csv\"\n",
    "#fl = \"/Users/minhthao/Desktop/MSDA/Spring 2023/SUD/FL_clean_final.csv\"\n",
    "#md = \"/Users/alapa/Downloads/MD_clean_final.csv\""
   ]
  },
  {
   "cell_type": "code",
   "execution_count": 4,
   "id": "4fcee1fc",
   "metadata": {},
   "outputs": [],
   "source": [
    "df = pd.read_csv(TEDS)"
   ]
  },
  {
   "cell_type": "code",
   "execution_count": 4,
   "id": "8a0ff138",
   "metadata": {},
   "outputs": [
    {
     "data": {
      "text/plain": [
       "(1722503, 38)"
      ]
     },
     "execution_count": 4,
     "metadata": {},
     "output_type": "execute_result"
    }
   ],
   "source": [
    "df.shape"
   ]
  },
  {
   "cell_type": "code",
   "execution_count": 7,
   "id": "a36b0b32",
   "metadata": {},
   "outputs": [
    {
     "data": {
      "text/plain": [
       "['PSYPROB',\n",
       " 'SUB1',\n",
       " 'DETNLF_D',\n",
       " 'MARFLG',\n",
       " 'SUB3',\n",
       " 'FREQ_ATND_SELF_HELP_D',\n",
       " 'PRIMINC',\n",
       " 'EMPLOY_D',\n",
       " 'DAYWAIT',\n",
       " 'EDUC',\n",
       " 'EMPLOY',\n",
       " 'FRSTUSE1',\n",
       " 'RACE',\n",
       " 'SUB2',\n",
       " 'SUB1_D',\n",
       " 'OTHERFLG',\n",
       " 'BARBFLG',\n",
       " 'DETNLF',\n",
       " 'GENDER',\n",
       " 'DETCRIM',\n",
       " 'SUB2_D',\n",
       " 'MTHAMFLG',\n",
       " 'METHUSE',\n",
       " 'FREQ1_D',\n",
       " 'PSOURCE',\n",
       " 'DIVISION',\n",
       " 'BENZFLG',\n",
       " 'AGE',\n",
       " 'MARSTAT',\n",
       " 'PRIMPAY',\n",
       " 'REASON',\n",
       " 'DSMCRIT',\n",
       " 'CBSA2010',\n",
       " 'FREQ_ATND_SELF_HELP',\n",
       " 'ALCDRUG',\n",
       " 'FREQ2_D',\n",
       " 'STFIPS',\n",
       " 'L/S']"
      ]
     },
     "execution_count": 7,
     "metadata": {},
     "output_type": "execute_result"
    }
   ],
   "source": [
    "list(df.columns)"
   ]
  },
  {
   "cell_type": "code",
   "execution_count": 5,
   "id": "d3562203",
   "metadata": {},
   "outputs": [],
   "source": [
    "X = df.drop(columns = [\"L/S\"])\n",
    "y = df[\"L/S\"]\n",
    "X_train, X_test, y_train, y_test = train_test_split(X, y, test_size=0.3, random_state=42)"
   ]
  },
  {
   "cell_type": "markdown",
   "id": "c48f1b78",
   "metadata": {},
   "source": [
    "## Classification"
   ]
  },
  {
   "cell_type": "code",
   "execution_count": 10,
   "id": "9bb90125",
   "metadata": {
    "scrolled": true
   },
   "outputs": [
    {
     "name": "stdout",
     "output_type": "stream",
     "text": [
      "              precision    recall  f1-score   support\n",
      "\n",
      "           0       0.76      0.90      0.82    360825\n",
      "           1       0.60      0.34      0.44    155926\n",
      "\n",
      "    accuracy                           0.73    516751\n",
      "   macro avg       0.68      0.62      0.63    516751\n",
      "weighted avg       0.71      0.73      0.71    516751\n",
      "\n"
     ]
    }
   ],
   "source": [
    "# xgboost #Model Training\n",
    "from sklearn.metrics import classification_report\n",
    "clf = XGBClassifier(n_estimators=100, learning_rate=1.0, max_depth=1, random_state=0).fit(X_train, y_train)\n",
    "clf.score(X_test, y_test)\n",
    "y_pred = pd.DataFrame(clf.predict(X_test),columns=[\"Passed\"])\n",
    "target_names=['0','1']\n",
    "print(classification_report(y_test, y_pred, target_names=target_names))"
   ]
  },
  {
   "cell_type": "code",
   "execution_count": 11,
   "id": "fb452bb7",
   "metadata": {},
   "outputs": [
    {
     "data": {
      "text/plain": [
       "0.765328896645966"
      ]
     },
     "execution_count": 11,
     "metadata": {},
     "output_type": "execute_result"
    }
   ],
   "source": [
    "from sklearn.metrics import f1_score, precision_score, recall_score, accuracy_score, roc_auc_score\n",
    "test_scores = clf.predict_proba(X_test)[:, 1]\n",
    "test_preds = (test_scores >= np.mean(y_train)) * 1\n",
    "# Train AUC\n",
    "roc_auc_score(y_test, clf.predict_proba(X_test)[:, 1])"
   ]
  },
  {
   "cell_type": "code",
   "execution_count": 12,
   "id": "f2311c8c",
   "metadata": {},
   "outputs": [
    {
     "name": "stdout",
     "output_type": "stream",
     "text": [
      "F-1 score: 0.4352262824845874\n",
      "Precision: 0.5960937848570026\n",
      "Recall: 0.3427330913381989\n",
      "Accuracy: 0.7315999388486911\n",
      "AUC: 0.765328896645966\n"
     ]
    }
   ],
   "source": [
    "f1 = f1_score(y_test, y_pred)\n",
    "precision = precision_score(y_test, y_pred)\n",
    "recall = recall_score(y_test, y_pred)\n",
    "accuracy = accuracy_score(y_test, y_pred)\n",
    "auc = roc_auc_score(y_test, clf.predict_proba(X_test)[:, 1])\n",
    "print(\"F-1 score:\", f1)\n",
    "print(\"Precision:\", precision)\n",
    "print(\"Recall:\", recall)\n",
    "print(\"Accuracy:\", accuracy)\n",
    "print(\"AUC:\", auc)"
   ]
  },
  {
   "cell_type": "code",
   "execution_count": 13,
   "id": "b1247aad",
   "metadata": {
    "scrolled": true
   },
   "outputs": [
    {
     "name": "stdout",
     "output_type": "stream",
     "text": [
      "Accuracy:  0.6940944478094866\n",
      "              precision    recall  f1-score   support\n",
      "\n",
      "           0       0.71      0.95      0.81    360825\n",
      "           1       0.47      0.10      0.16    155926\n",
      "\n",
      "    accuracy                           0.69    516751\n",
      "   macro avg       0.59      0.52      0.49    516751\n",
      "weighted avg       0.64      0.69      0.62    516751\n",
      "\n"
     ]
    },
    {
     "data": {
      "text/plain": [
       "0.6523268741236219"
      ]
     },
     "execution_count": 13,
     "metadata": {},
     "output_type": "execute_result"
    }
   ],
   "source": [
    "# Logistic regression\n",
    "from sklearn.linear_model import LogisticRegression\n",
    "\n",
    "# Model Training\n",
    "clf = LogisticRegression().fit(X_train, y_train)\n",
    "\n",
    "# Model Evaluation\n",
    "print(\"Accuracy: \", clf.score(X_test, y_test))\n",
    "\n",
    "y_pred = pd.DataFrame(clf.predict(X_test), columns=[\"Passed\"])\n",
    "target_names=['0','1']\n",
    "print(classification_report(y_test, y_pred, target_names=target_names))\n",
    "\n",
    "test_scores = clf.predict_proba(X_test)[:, 1]\n",
    "test_preds = (test_scores >= np.mean(y_train)) * 1\n",
    "\n",
    "# Train AUC\n",
    "roc_auc_score(y_test, clf.predict_proba(X_test)[:, 1])"
   ]
  },
  {
   "cell_type": "code",
   "execution_count": 14,
   "id": "1284d1c3",
   "metadata": {},
   "outputs": [
    {
     "name": "stdout",
     "output_type": "stream",
     "text": [
      "F-1 score: 0.15960744076257719\n",
      "Precision: 0.4665713486463805\n",
      "Recall: 0.0962700255249285\n",
      "Accuracy: 0.6940944478094866\n",
      "AUC: 0.6523268741236219\n"
     ]
    }
   ],
   "source": [
    "f1 = f1_score(y_test, y_pred)\n",
    "precision = precision_score(y_test, y_pred)\n",
    "recall = recall_score(y_test, y_pred)\n",
    "accuracy = accuracy_score(y_test, y_pred)\n",
    "auc = roc_auc_score(y_test, clf.predict_proba(X_test)[:, 1])\n",
    "print(\"F-1 score:\", f1)\n",
    "print(\"Precision:\", precision)\n",
    "print(\"Recall:\", recall)\n",
    "print(\"Accuracy:\", accuracy)\n",
    "print(\"AUC:\", auc)"
   ]
  },
  {
   "cell_type": "code",
   "execution_count": 15,
   "id": "0b863f41",
   "metadata": {},
   "outputs": [
    {
     "name": "stdout",
     "output_type": "stream",
     "text": [
      "Accuracy:  0.7631973619789802\n",
      "              precision    recall  f1-score   support\n",
      "\n",
      "           0       0.76      0.96      0.85    360825\n",
      "           1       0.76      0.32      0.45    155926\n",
      "\n",
      "    accuracy                           0.76    516751\n",
      "   macro avg       0.76      0.64      0.65    516751\n",
      "weighted avg       0.76      0.76      0.73    516751\n",
      "\n"
     ]
    },
    {
     "data": {
      "text/plain": [
       "0.8274123825545306"
      ]
     },
     "execution_count": 15,
     "metadata": {},
     "output_type": "execute_result"
    }
   ],
   "source": [
    "# Random forest classification\n",
    "from sklearn.ensemble import RandomForestClassifier\n",
    "\n",
    "# Model Training\n",
    "clf = RandomForestClassifier(n_estimators=100, max_depth=10, random_state=0).fit(X_train, y_train)\n",
    "\n",
    "# Model Evaluation\n",
    "print(\"Accuracy: \", clf.score(X_test, y_test))\n",
    "\n",
    "y_pred = pd.DataFrame(clf.predict(X_test), columns=[\"Passed\"])\n",
    "target_names=['0','1']\n",
    "print(classification_report(y_test, y_pred, target_names=target_names))\n",
    "\n",
    "test_scores = clf.predict_proba(X_test)[:, 1]\n",
    "test_preds = (test_scores >= np.mean(y_train)) * 1\n",
    "\n",
    "# Train AUC\n",
    "roc_auc_score(y_test, clf.predict_proba(X_test)[:, 1])"
   ]
  },
  {
   "cell_type": "code",
   "execution_count": 16,
   "id": "efae2bee",
   "metadata": {},
   "outputs": [
    {
     "name": "stdout",
     "output_type": "stream",
     "text": [
      "F-1 score: 0.4465991316931982\n",
      "Precision: 0.7573703101512409\n",
      "Recall: 0.3166630324641176\n",
      "Accuracy: 0.7631973619789802\n",
      "AUC: 0.8274123825545306\n"
     ]
    }
   ],
   "source": [
    "f1 = f1_score(y_test, y_pred)\n",
    "precision = precision_score(y_test, y_pred)\n",
    "recall = recall_score(y_test, y_pred)\n",
    "accuracy = accuracy_score(y_test, y_pred)\n",
    "auc = roc_auc_score(y_test, clf.predict_proba(X_test)[:, 1])\n",
    "print(\"F-1 score:\", f1)\n",
    "print(\"Precision:\", precision)\n",
    "print(\"Recall:\", recall)\n",
    "print(\"Accuracy:\", accuracy)\n",
    "print(\"AUC:\", auc)"
   ]
  },
  {
   "cell_type": "code",
   "execution_count": 6,
   "id": "56391989",
   "metadata": {},
   "outputs": [
    {
     "name": "stdout",
     "output_type": "stream",
     "text": [
      "epoch 0  | loss: 0.54842 | train_auc: 0.80714 | train_accuracy: 0.69935 | valid_auc: 0.80599 | valid_accuracy: 0.69806 |  0:01:36s\n",
      "epoch 1  | loss: 0.5166  | train_auc: 0.82562 | train_accuracy: 0.70737 | valid_auc: 0.82417 | valid_accuracy: 0.7056  |  0:03:09s\n",
      "epoch 2  | loss: 0.50939 | train_auc: 0.82786 | train_accuracy: 0.72162 | valid_auc: 0.82611 | valid_accuracy: 0.71986 |  0:04:42s\n",
      "epoch 3  | loss: 0.50443 | train_auc: 0.83192 | train_accuracy: 0.72444 | valid_auc: 0.83039 | valid_accuracy: 0.72297 |  0:06:15s\n",
      "epoch 4  | loss: 0.50325 | train_auc: 0.83265 | train_accuracy: 0.72796 | valid_auc: 0.83032 | valid_accuracy: 0.7253  |  0:07:48s\n",
      "epoch 5  | loss: 0.50421 | train_auc: 0.8349  | train_accuracy: 0.73594 | valid_auc: 0.83276 | valid_accuracy: 0.73358 |  0:09:40s\n",
      "epoch 6  | loss: 0.49964 | train_auc: 0.83414 | train_accuracy: 0.74501 | valid_auc: 0.83142 | valid_accuracy: 0.74224 |  0:11:17s\n",
      "epoch 7  | loss: 0.49833 | train_auc: 0.83723 | train_accuracy: 0.72058 | valid_auc: 0.83439 | valid_accuracy: 0.71793 |  0:12:57s\n",
      "epoch 8  | loss: 0.49809 | train_auc: 0.83578 | train_accuracy: 0.73023 | valid_auc: 0.83333 | valid_accuracy: 0.72792 |  0:14:37s\n",
      "epoch 9  | loss: 0.49809 | train_auc: 0.83806 | train_accuracy: 0.7332  | valid_auc: 0.83575 | valid_accuracy: 0.73074 |  0:16:18s\n",
      "epoch 10 | loss: 0.49564 | train_auc: 0.83901 | train_accuracy: 0.7365  | valid_auc: 0.83641 | valid_accuracy: 0.73422 |  0:17:59s\n",
      "epoch 11 | loss: 0.49458 | train_auc: 0.84047 | train_accuracy: 0.73568 | valid_auc: 0.8376  | valid_accuracy: 0.73274 |  0:19:40s\n",
      "epoch 12 | loss: 0.49463 | train_auc: 0.83999 | train_accuracy: 0.72866 | valid_auc: 0.83721 | valid_accuracy: 0.7262  |  0:21:24s\n",
      "epoch 13 | loss: 0.49531 | train_auc: 0.83496 | train_accuracy: 0.72606 | valid_auc: 0.83263 | valid_accuracy: 0.7237  |  0:23:06s\n",
      "epoch 14 | loss: 0.49975 | train_auc: 0.83278 | train_accuracy: 0.72691 | valid_auc: 0.83064 | valid_accuracy: 0.72449 |  0:24:51s\n",
      "epoch 15 | loss: 0.49871 | train_auc: 0.83724 | train_accuracy: 0.73349 | valid_auc: 0.83482 | valid_accuracy: 0.73155 |  0:26:34s\n",
      "epoch 16 | loss: 0.4946  | train_auc: 0.84143 | train_accuracy: 0.7263  | valid_auc: 0.83864 | valid_accuracy: 0.72356 |  0:28:18s\n",
      "epoch 17 | loss: 0.49179 | train_auc: 0.84155 | train_accuracy: 0.73562 | valid_auc: 0.83888 | valid_accuracy: 0.73284 |  0:30:02s\n",
      "epoch 18 | loss: 0.49164 | train_auc: 0.84269 | train_accuracy: 0.74033 | valid_auc: 0.83993 | valid_accuracy: 0.73831 |  0:31:46s\n",
      "epoch 19 | loss: 0.49113 | train_auc: 0.84229 | train_accuracy: 0.74123 | valid_auc: 0.83967 | valid_accuracy: 0.73875 |  0:33:29s\n",
      "epoch 20 | loss: 0.48967 | train_auc: 0.84346 | train_accuracy: 0.73943 | valid_auc: 0.84069 | valid_accuracy: 0.73675 |  0:35:16s\n",
      "epoch 21 | loss: 0.4892  | train_auc: 0.84262 | train_accuracy: 0.73443 | valid_auc: 0.83986 | valid_accuracy: 0.73165 |  0:37:02s\n",
      "epoch 22 | loss: 0.48856 | train_auc: 0.84309 | train_accuracy: 0.73383 | valid_auc: 0.84006 | valid_accuracy: 0.73165 |  0:38:48s\n",
      "epoch 23 | loss: 0.48881 | train_auc: 0.84371 | train_accuracy: 0.72767 | valid_auc: 0.84086 | valid_accuracy: 0.72511 |  0:40:34s\n",
      "epoch 24 | loss: 0.48893 | train_auc: 0.84402 | train_accuracy: 0.73125 | valid_auc: 0.84094 | valid_accuracy: 0.7282  |  0:42:19s\n",
      "epoch 25 | loss: 0.48866 | train_auc: 0.84395 | train_accuracy: 0.73546 | valid_auc: 0.84124 | valid_accuracy: 0.73328 |  0:44:12s\n",
      "epoch 26 | loss: 0.48781 | train_auc: 0.84394 | train_accuracy: 0.74557 | valid_auc: 0.84127 | valid_accuracy: 0.74321 |  0:46:05s\n",
      "epoch 27 | loss: 0.48827 | train_auc: 0.84441 | train_accuracy: 0.73897 | valid_auc: 0.84142 | valid_accuracy: 0.73683 |  0:47:51s\n",
      "epoch 28 | loss: 0.48759 | train_auc: 0.84446 | train_accuracy: 0.74333 | valid_auc: 0.8416  | valid_accuracy: 0.7408  |  0:49:36s\n",
      "epoch 29 | loss: 0.48688 | train_auc: 0.84481 | train_accuracy: 0.73297 | valid_auc: 0.84203 | valid_accuracy: 0.73043 |  0:51:27s\n",
      "epoch 30 | loss: 0.4862  | train_auc: 0.8437  | train_accuracy: 0.73878 | valid_auc: 0.84109 | valid_accuracy: 0.73669 |  0:53:15s\n",
      "epoch 31 | loss: 0.48788 | train_auc: 0.84441 | train_accuracy: 0.74608 | valid_auc: 0.84161 | valid_accuracy: 0.74352 |  0:55:02s\n",
      "epoch 32 | loss: 0.48638 | train_auc: 0.84525 | train_accuracy: 0.75236 | valid_auc: 0.84241 | valid_accuracy: 0.75029 |  0:56:51s\n",
      "epoch 33 | loss: 0.48776 | train_auc: 0.84494 | train_accuracy: 0.7378  | valid_auc: 0.84197 | valid_accuracy: 0.73529 |  0:58:59s\n",
      "epoch 34 | loss: 0.48673 | train_auc: 0.84635 | train_accuracy: 0.73101 | valid_auc: 0.84352 | valid_accuracy: 0.72851 |  1:00:45s\n",
      "epoch 35 | loss: 0.48584 | train_auc: 0.84537 | train_accuracy: 0.74609 | valid_auc: 0.84241 | valid_accuracy: 0.74383 |  1:02:33s\n",
      "epoch 36 | loss: 0.48649 | train_auc: 0.84555 | train_accuracy: 0.74634 | valid_auc: 0.84251 | valid_accuracy: 0.74378 |  1:04:19s\n",
      "epoch 37 | loss: 0.48582 | train_auc: 0.84536 | train_accuracy: 0.74631 | valid_auc: 0.8427  | valid_accuracy: 0.74386 |  1:05:56s\n",
      "epoch 38 | loss: 0.48613 | train_auc: 0.84559 | train_accuracy: 0.74308 | valid_auc: 0.84274 | valid_accuracy: 0.74011 |  1:07:34s\n",
      "epoch 39 | loss: 0.48551 | train_auc: 0.84541 | train_accuracy: 0.74381 | valid_auc: 0.84248 | valid_accuracy: 0.74125 |  1:09:15s\n",
      "epoch 40 | loss: 0.48499 | train_auc: 0.84671 | train_accuracy: 0.74341 | valid_auc: 0.84388 | valid_accuracy: 0.74102 |  1:10:58s\n",
      "epoch 41 | loss: 0.48539 | train_auc: 0.84676 | train_accuracy: 0.72963 | valid_auc: 0.84357 | valid_accuracy: 0.72657 |  1:12:40s\n",
      "epoch 42 | loss: 0.48564 | train_auc: 0.84578 | train_accuracy: 0.74259 | valid_auc: 0.84287 | valid_accuracy: 0.74026 |  1:14:21s\n",
      "epoch 43 | loss: 0.48523 | train_auc: 0.84701 | train_accuracy: 0.74596 | valid_auc: 0.84387 | valid_accuracy: 0.743   |  1:16:03s\n",
      "epoch 44 | loss: 0.48449 | train_auc: 0.84665 | train_accuracy: 0.73496 | valid_auc: 0.8436  | valid_accuracy: 0.73192 |  1:17:39s\n",
      "epoch 45 | loss: 0.4845  | train_auc: 0.84633 | train_accuracy: 0.73695 | valid_auc: 0.8434  | valid_accuracy: 0.73447 |  1:19:13s\n",
      "epoch 46 | loss: 0.48481 | train_auc: 0.84633 | train_accuracy: 0.73756 | valid_auc: 0.84355 | valid_accuracy: 0.73527 |  1:20:54s\n",
      "epoch 47 | loss: 0.48519 | train_auc: 0.84713 | train_accuracy: 0.74427 | valid_auc: 0.84401 | valid_accuracy: 0.74169 |  1:22:32s\n",
      "epoch 48 | loss: 0.48418 | train_auc: 0.84617 | train_accuracy: 0.73183 | valid_auc: 0.84302 | valid_accuracy: 0.72963 |  1:24:06s\n",
      "epoch 49 | loss: 0.48334 | train_auc: 0.84673 | train_accuracy: 0.74522 | valid_auc: 0.8435  | valid_accuracy: 0.74233 |  1:25:51s\n",
      "Stop training because you reached max_epochs = 50 with best_epoch = 32 and best_valid_accuracy = 0.75029\n",
      "Test AUC: 0.8424\n",
      "Test accuracy: 0.7503\n"
     ]
    }
   ],
   "source": [
    "# Tabnet \n",
    "import pytorch_tabnet\n",
    "from pytorch_tabnet.tab_model import TabNetClassifier\n",
    "import torch\n",
    "from sklearn.metrics import f1_score, precision_score, recall_score, accuracy_score, roc_auc_score\n",
    "\n",
    "# Define and initialize TabNetClassifier model\n",
    "tabnet_model = TabNetClassifier(optimizer_fn=torch.optim.Adam,\n",
    "                                optimizer_params=dict(lr=2e-2),\n",
    "                                scheduler_params={\"step_size\":10, \"gamma\":0.9},\n",
    "                                scheduler_fn=torch.optim.lr_scheduler.StepLR,\n",
    "                                mask_type='entmax')\n",
    "\n",
    "# Train the model\n",
    "# Remember to change to max epoch 50 with cleaned data\n",
    "tabnet_model.fit(X_train.values, y_train.values,\n",
    "                 eval_set=[(X_train.values, y_train.values), (X_test.values, y_test.values)],\n",
    "                 eval_name=['train', 'valid'],\n",
    "                 eval_metric=['auc', 'accuracy'],\n",
    "                 max_epochs=50, patience=50,\n",
    "                 batch_size=256, virtual_batch_size=128,\n",
    "                 num_workers=0,\n",
    "                 weights=1,\n",
    "                 drop_last=False)\n",
    "\n",
    "# Evaluate the trained model on the test set\n",
    "y_pred_proba = tabnet_model.predict_proba(X_test.values)\n",
    "y_pred = (y_pred_proba[:, 1] >= 0.5).astype(int) # thresholding at 0.5\n",
    "auc = roc_auc_score(y_test, y_pred_proba[:, 1])\n",
    "accuracy = accuracy_score(y_test, y_pred)\n",
    "\n",
    "print(f\"Test AUC: {auc:.4f}\")\n",
    "print(f\"Test accuracy: {accuracy:.4f}\")"
   ]
  },
  {
   "cell_type": "code",
   "execution_count": 8,
   "id": "5e8b1c5a",
   "metadata": {},
   "outputs": [
    {
     "name": "stdout",
     "output_type": "stream",
     "text": [
      "F-1 score: 0.6489430288324215\n",
      "Precision: 0.5634799533259952\n",
      "Recall: 0.7649654323204597\n",
      "Accuracy: 0.7502646342242202\n",
      "AUC: 0.8424109771609885\n"
     ]
    }
   ],
   "source": [
    "f1 = f1_score(y_test, y_pred)\n",
    "precision = precision_score(y_test, y_pred)\n",
    "recall = recall_score(y_test, y_pred)\n",
    "accuracy = accuracy_score(y_test, y_pred)\n",
    "# auc = roc_auc_score(y_test, clf.predict_proba(X_test)[:, 1])\n",
    "auc = roc_auc_score(y_test, y_pred_proba[:, 1])\n",
    "print(\"F-1 score:\", f1)\n",
    "print(\"Precision:\", precision)\n",
    "print(\"Recall:\", recall)\n",
    "print(\"Accuracy:\", accuracy)\n",
    "print(\"AUC:\", auc)"
   ]
  },
  {
   "cell_type": "code",
   "execution_count": 9,
   "id": "57234dea",
   "metadata": {},
   "outputs": [
    {
     "name": "stdout",
     "output_type": "stream",
     "text": [
      "              precision    recall  f1-score   support\n",
      "\n",
      "           0       0.88      0.74      0.81    360825\n",
      "           1       0.56      0.76      0.65    155926\n",
      "\n",
      "    accuracy                           0.75    516751\n",
      "   macro avg       0.72      0.75      0.73    516751\n",
      "weighted avg       0.78      0.75      0.76    516751\n",
      "\n"
     ]
    },
    {
     "data": {
      "text/plain": [
       "0.8424109771609885"
      ]
     },
     "execution_count": 9,
     "metadata": {},
     "output_type": "execute_result"
    }
   ],
   "source": [
    "# y_pred = pd.DataFrame(tabnet_model.predict(X_test), columns=[\"Passed\"])\n",
    "from sklearn.metrics import classification_report\n",
    "target_names=['0','1']\n",
    "print(classification_report(y_test, y_pred, target_names=target_names))\n",
    "\n",
    "# test_scores = tabnet_model.predict_proba(X_test)[:, 1]\n",
    "# test_preds = (test_scores >= np.mean(y_train)) * 1\n",
    "\n",
    "# # Train AUC\n",
    "roc_auc_score(y_test, y_pred_proba[:, 1])\n",
    "\n"
   ]
  },
  {
   "cell_type": "code",
   "execution_count": null,
   "id": "65e739c5",
   "metadata": {},
   "outputs": [],
   "source": []
  }
 ],
 "metadata": {
  "kernelspec": {
   "display_name": "Python 3 (ipykernel)",
   "language": "python",
   "name": "python3"
  },
  "language_info": {
   "codemirror_mode": {
    "name": "ipython",
    "version": 3
   },
   "file_extension": ".py",
   "mimetype": "text/x-python",
   "name": "python",
   "nbconvert_exporter": "python",
   "pygments_lexer": "ipython3",
   "version": "3.10.13"
  }
 },
 "nbformat": 4,
 "nbformat_minor": 5
}
